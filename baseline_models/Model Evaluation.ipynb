{
 "cells": [
  {
   "cell_type": "code",
   "execution_count": 1,
   "metadata": {
    "collapsed": true
   },
   "outputs": [],
   "source": [
    "#5"
   ]
  },
  {
   "cell_type": "code",
   "execution_count": 2,
   "metadata": {},
   "outputs": [
    {
     "name": "stderr",
     "output_type": "stream",
     "text": [
      "/home/serverteam_1/anaconda3/lib/python3.6/importlib/_bootstrap.py:219: RuntimeWarning: compiletime version 3.5 of module 'tensorflow.python.framework.fast_tensor_util' does not match runtime version 3.6\n",
      "  return f(*args, **kwds)\n"
     ]
    }
   ],
   "source": [
    "import tensorflow as tf\n",
    "import os\n",
    "import time"
   ]
  },
  {
   "cell_type": "code",
   "execution_count": 3,
   "metadata": {},
   "outputs": [
    {
     "name": "stderr",
     "output_type": "stream",
     "text": [
      "ERROR:root:File `'./Constants.py'` not found.\n"
     ]
    }
   ],
   "source": [
    "%run \"./Constants\""
   ]
  },
  {
   "cell_type": "code",
   "execution_count": 5,
   "metadata": {},
   "outputs": [
    {
     "name": "stderr",
     "output_type": "stream",
     "text": [
      "ERROR:root:File `'./Data Ingest.py'` not found.\n"
     ]
    }
   ],
   "source": [
    "%run \"./Data Ingest\""
   ]
  },
  {
   "cell_type": "code",
   "execution_count": 6,
   "metadata": {},
   "outputs": [
    {
     "name": "stderr",
     "output_type": "stream",
     "text": [
      "ERROR:root:File `'./Constructing the Model Graph.py'` not found.\n"
     ]
    }
   ],
   "source": [
    "%run \"./Constructing the Model Graph\""
   ]
  },
  {
   "cell_type": "code",
   "execution_count": 7,
   "metadata": {
    "collapsed": true
   },
   "outputs": [],
   "source": [
    "def restore_model(sess, checkpoint_dir, retry_sec=1):\n",
    "  while True:\n",
    "    ckpt = tf.train.get_checkpoint_state(checkpoint_dir)\n",
    "    if ckpt and ckpt.model_checkpoint_path:\n",
    "      tf.train.Saver().restore(sess, ckpt.model_checkpoint_path)\n",
    "      global_step = ckpt.model_checkpoint_path.split('/')[-1].split('-')[-1]\n",
    "      return global_step\n",
    "    print(\"No checkpoint file found in directory %s, retrying after %s sec...\"%(checkpoint_dir, retry_sec))\n",
    "    time.sleep(retry_sec)"
   ]
  },
  {
   "cell_type": "code",
   "execution_count": 8,
   "metadata": {},
   "outputs": [
    {
     "ename": "ModuleNotFoundError",
     "evalue": "No module named 'SyncUtils'",
     "output_type": "error",
     "traceback": [
      "\u001b[0;31m---------------------------------------------------------------------------\u001b[0m",
      "\u001b[0;31mModuleNotFoundError\u001b[0m                       Traceback (most recent call last)",
      "\u001b[0;32m<ipython-input-8-ab8a9835ca8e>\u001b[0m in \u001b[0;36m<module>\u001b[0;34m()\u001b[0m\n\u001b[0;32m----> 1\u001b[0;31m \u001b[0;32mfrom\u001b[0m \u001b[0mSyncUtils\u001b[0m \u001b[0;32mimport\u001b[0m \u001b[0msyncDirs\u001b[0m\u001b[0;34m\u001b[0m\u001b[0m\n\u001b[0m\u001b[1;32m      2\u001b[0m \u001b[0;32mimport\u001b[0m \u001b[0mmath\u001b[0m\u001b[0;34m\u001b[0m\u001b[0m\n",
      "\u001b[0;31mModuleNotFoundError\u001b[0m: No module named 'SyncUtils'"
     ]
    }
   ],
   "source": [
    "from SyncUtils import syncDirs\n",
    "import math"
   ]
  },
  {
   "cell_type": "code",
   "execution_count": 9,
   "metadata": {
    "collapsed": true
   },
   "outputs": [],
   "source": [
    "def model_eval(num_epochs, wait_between_epochs):\n",
    "  \"\"\" Every wait_between_epochs seconds, loads our model from checkpoint and computes its accuracy on the full validation set. \"\"\"\n",
    "  # Download validation data from S3; our dataset is in a public bucket, so we don't\n",
    "  # need to pass credentials when reading data\n",
    "  download_files(worker_num=0, num_workers=1, bucket_name=BUCKET_NAME, prefix=EVAL_PREFIX,\n",
    "                            region_name=S3_REGION, local_dir=LOCAL_DATA_DIR, use_authentication=False)  \n",
    "  # Get a tuple (images, labels) corresponding to a batch of validation data\n",
    "  tf.reset_default_graph()\n",
    "  images, labels = get_batch(data_dir=LOCAL_DATA_DIR, batch_size=BATCH_SIZE, num_readers=1, num_preprocess_threads=2, file_prefix='validation')\n",
    "  # Get model loss, accuracy on validation data\n",
    "  _, accuracy = get_loss_and_accuracy(images, labels)  \n",
    "  batches_per_epoch = int(math.ceil(NUM_VALIDATION_EXAMPLES / BATCH_SIZE))\n",
    "  with tf.Session() as sess:  \n",
    "    # Create a SummaryWriter that writes evaluation event files to the same directory as training event files\n",
    "    summary_writer = tf.summary.FileWriter(LOCAL_EVENT_FILE_DIR, graph=sess.graph)\n",
    "    # Sync event files back to DBFS for persistent storage\n",
    "    syncDirs(src_dir=LOCAL_EVENT_FILE_DIR, dst_dir=DBFS_EVENT_FILE_DIR, sync_wait_secs=20)\n",
    "    for epoch in xrange(num_epochs):\n",
    "        try:\n",
    "          # Restore model & get the number of training batches processed by the model as global_step\n",
    "          global_step = restore_model(sess, checkpoint_dir=CHECKPOINT_DIR)\n",
    "          # Compute model accuracy on the validation set\n",
    "          accuracy_sum = 0.0\n",
    "          for i in range(batches_per_epoch):  \n",
    "            accuracy_sum += sess.run(accuracy)\n",
    "          eval_accuracy = accuracy_sum / batches_per_epoch\n",
    "          tf.logging.info(\"Global step %s, evaluation accuracy: %s\"%(global_step, eval_accuracy))          \n",
    "          # Write model accuracy to event file to be consumed by TensorBoard\n",
    "          summary = tf.Summary()\n",
    "          summary.value.add(tag='Evaluation accuracy', simple_value=eval_accuracy)\n",
    "          summary_writer.add_summary(summary, global_step)\n",
    "          # Wait before running next evaluation step\n",
    "          time.sleep(wait_between_epochs)          \n",
    "        except tf.errors.InvalidArgumentError as e:\n",
    "          tf.logging.info(\"Caught exception %s\"%e)\n",
    "          tf.logging.info(\"Failed to restore checkpoint, retrying...\")\n",
    "          pass"
   ]
  },
  {
   "cell_type": "code",
   "execution_count": 10,
   "metadata": {},
   "outputs": [
    {
     "ename": "NameError",
     "evalue": "name 'download_files' is not defined",
     "output_type": "error",
     "traceback": [
      "\u001b[0;31m---------------------------------------------------------------------------\u001b[0m",
      "\u001b[0;31mNameError\u001b[0m                                 Traceback (most recent call last)",
      "\u001b[0;32m<ipython-input-10-524f849c1027>\u001b[0m in \u001b[0;36m<module>\u001b[0;34m()\u001b[0m\n\u001b[0;32m----> 1\u001b[0;31m \u001b[0mmodel_eval\u001b[0m\u001b[0;34m(\u001b[0m\u001b[0mnum_epochs\u001b[0m\u001b[0;34m=\u001b[0m\u001b[0;36m20\u001b[0m\u001b[0;34m,\u001b[0m \u001b[0mwait_between_epochs\u001b[0m\u001b[0;34m=\u001b[0m\u001b[0;36m30\u001b[0m\u001b[0;34m)\u001b[0m\u001b[0;34m\u001b[0m\u001b[0m\n\u001b[0m",
      "\u001b[0;32m<ipython-input-9-875e3625ad2d>\u001b[0m in \u001b[0;36mmodel_eval\u001b[0;34m(num_epochs, wait_between_epochs)\u001b[0m\n\u001b[1;32m      3\u001b[0m   \u001b[0;31m# Download validation data from S3; our dataset is in a public bucket, so we don't\u001b[0m\u001b[0;34m\u001b[0m\u001b[0;34m\u001b[0m\u001b[0m\n\u001b[1;32m      4\u001b[0m   \u001b[0;31m# need to pass credentials when reading data\u001b[0m\u001b[0;34m\u001b[0m\u001b[0;34m\u001b[0m\u001b[0m\n\u001b[0;32m----> 5\u001b[0;31m   download_files(worker_num=0, num_workers=1, bucket_name=BUCKET_NAME, prefix=EVAL_PREFIX,\n\u001b[0m\u001b[1;32m      6\u001b[0m                             region_name=S3_REGION, local_dir=LOCAL_DATA_DIR, use_authentication=False)  \n\u001b[1;32m      7\u001b[0m   \u001b[0;31m# Get a tuple (images, labels) corresponding to a batch of validation data\u001b[0m\u001b[0;34m\u001b[0m\u001b[0;34m\u001b[0m\u001b[0m\n",
      "\u001b[0;31mNameError\u001b[0m: name 'download_files' is not defined"
     ]
    }
   ],
   "source": [
    "model_eval(num_epochs=20, wait_between_epochs=30)\n"
   ]
  },
  {
   "cell_type": "code",
   "execution_count": null,
   "metadata": {
    "collapsed": true
   },
   "outputs": [],
   "source": []
  }
 ],
 "metadata": {
  "kernelspec": {
   "display_name": "Python 3",
   "language": "python",
   "name": "python3"
  },
  "language_info": {
   "codemirror_mode": {
    "name": "ipython",
    "version": 3
   },
   "file_extension": ".py",
   "mimetype": "text/x-python",
   "name": "python",
   "nbconvert_exporter": "python",
   "pygments_lexer": "ipython3",
   "version": "3.6.3"
  }
 },
 "nbformat": 4,
 "nbformat_minor": 2
}
